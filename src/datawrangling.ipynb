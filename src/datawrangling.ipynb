{
 "cells": [
  {
   "cell_type": "code",
   "execution_count": null,
   "metadata": {},
   "outputs": [],
   "source": [
    "import pandas as pd\n",
    "\n",
    "rawdata = \"src/data/Warehouse_Inventory_Data.csv\"\n",
    "def clean_data(rawdata):\n",
    "    \"\"\"Cleans the raw dataset.\"\"\"\n",
    "    # Read CSV file\n",
    "    df = pd.read_csv(rawdata)\n",
    "\n",
    "    # Check for missing columns\n",
    "    if \"Product_ID\" not in df.columns:\n",
    "        print(\"Error: Missing Product_ID column\")\n",
    "        return None\n",
    "\n",
    "    # Fill empty values\n",
    "    if \"Current_Stock_Level\" in df.columns:\n",
    "        df[\"Current_Stock_Level\"].fillna(0, inplace=True)\n",
    "    else:\n",
    "        print(\"Error: Missing Current_Stock_Level column\")\n",
    "        return None\n",
    "\n",
    "    # Fix Product_ID to integers\n",
    "    df[\"Product_ID\"] = pd.to_numeric(df[\"Product_ID\"], errors=\"coerce\").fillna(0).astype(int)\n",
    "\n",
    "    # Handle NaN values\n",
    "    df.fillna(\"Unknown\", inplace=True)\n",
    "\n",
    "    # Drop duplicate rows\n",
    "    df.drop_duplicates(inplace=True)\n",
    "\n",
    "    return df"
   ]
  }
 ],
 "metadata": {
  "language_info": {
   "name": "python"
  }
 },
 "nbformat": 4,
 "nbformat_minor": 2
}
