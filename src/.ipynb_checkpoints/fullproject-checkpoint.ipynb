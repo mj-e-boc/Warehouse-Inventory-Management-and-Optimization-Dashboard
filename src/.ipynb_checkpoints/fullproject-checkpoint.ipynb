{
 "cells": [
  {
   "cell_type": "markdown",
   "metadata": {},
   "source": [
    "# Warehouse Inventory Management and Optimization Dashboard\n",
    "\n",
    "This notebook demonstrates the full workflow for the Warehouse Inventory Management and Optimization project. It covers:\n",
    "- Loading and exploring the dataset\n",
    "- Data wrangling and cleaning\n",
    "- SQL database operations\n",
    "- Analysis and visualizations"
   ]
  },
  {
   "cell_type": "markdown",
   "metadata": {},
   "source": [
    "# Import necessary libraries\n",
    "import pandas as pd\n",
    "import sqlite3\n",
    "import matplotlib.pyplot as plt\n",
    "import os\n"
   ]
  },
  {
   "cell_type": "markdown",
   "metadata": {},
   "source": [
    "### File Paths\n",
    "The following paths are used in this project:\n",
    "- **RAW_DATA_PATH**: Path to the raw dataset (`Warehouse_Inventory_Data.csv`).\n",
    "- **DB_PATH**: Path to the SQLite database (`inventory.db`).\n"
   ]
  },
  {
   "cell_type": "markdown",
   "metadata": {},
   "source": [
    "# Define file paths"
   ]
  },
  {
   "cell_type": "code",
   "execution_count": null,
   "metadata": {},
   "outputs": [],
   "source": [
    "RAW_DATA_PATH = \"src/data/Warehouse_Inventory_Data.csv\"\n",
    "DB_PATH = \"data/inventory.db\""
   ]
  },
  {
   "cell_type": "markdown",
   "metadata": {},
   "source": [
    "## Data Cleaning\n",
    "\n",
    "The `clean_data` function processes the raw dataset:\n",
    "- Checks for missing columns\n",
    "- Fills missing values\n",
    "- Converts `Product_ID` to integers\n",
    "- Removes duplicates\n"
   ]
  },
  {
   "cell_type": "code",
   "execution_count": null,
   "metadata": {},
   "outputs": [],
   "source": [
    "def clean_data(rawdata):\n",
    "    \n",
    " \n",
    "    df = pd.read_csv(rawdata)\n",
    "\n",
    "    # Checking for missing columns if any!\n",
    "    if \"Product_ID\" not in df.columns:\n",
    "        print(\"Error: Missing Product_ID column\")\n",
    "        return None\n",
    "\n",
    "    # Filling empty values if ANY!\n",
    "    if \"Current_Stock_Level\" in df.columns:\n",
    "        df[\"Current_Stock_Level\"].fillna(0, inplace=True)\n",
    "    else:\n",
    "        print(\"Error: Missing Current_Stock_Level column\")\n",
    "        return None\n",
    "\n",
    "    # Fixing Product_ID to integers\n",
    "    df[\"Product_ID\"] = pd.to_numeric(df[\"Product_ID\"], errors=\"coerce\").fillna(0).astype(int)\n",
    "\n",
    "    # Handling NaN values\n",
    "    df.fillna(\"Unknown\", inplace=True)\n",
    "\n",
    "    # Dropping duplicate rows if Any!\n",
    "    df.drop_duplicates(inplace=True)\n",
    "\n",
    "    return df\n",
    "\n",
    "# Clean the data\n",
    "print(\"Cleaning the dataset...\")\n",
    "cleaned_data = clean_data(RAW_DATA_PATH)\n",
    "if cleaned_data is None or cleaned_data.empty:\n",
    "    print(\"Error: No data found after cleaning. Exiting.\")\n",
    "    exit()\n",
    "cleaned_data.head()\n"
   ]
  },
  {
   "cell_type": "markdown",
   "metadata": {},
   "source": [
    "## Database Operations\n",
    "\n",
    "SQLite is used to store and query the cleaned inventory data. Functions include:\n",
    "- `create_tables`: Creates a table in the database.\n",
    "- `insert_data_to_db`: Inserts the cleaned data into the database.\n",
    "- `execute_query`: Executes SQL queries.\n"
   ]
  },
  {
   "cell_type": "code",
   "execution_count": null,
   "metadata": {},
   "outputs": [],
   "source": [
    "def create_tables(db_path, columns):\n",
    "    conn = sqlite3.connect(db_path)\n",
    "    cursor = conn.cursor()\n",
    "    create_table_query = f\"\"\"\n",
    "    CREATE TABLE IF NOT EXISTS inventory (\n",
    "        {\", \".join([f\"{col} {dtype}\" for col, dtype in columns])}\n",
    "    );\n",
    "    \"\"\"\n",
    "    cursor.execute(create_table_query)\n",
    "    conn.commit()\n",
    "    conn.close()\n",
    "\n",
    "def insert_data_to_db(db_path, data):\n",
    "    conn = sqlite3.connect(db_path)\n",
    "    data.to_sql(\"inventory\", conn, if_exists=\"replace\", index=False)\n",
    "    conn.commit()\n",
    "    conn.close()\n",
    "\n",
    "def execute_query(db_path, query):\n",
    "    conn = sqlite3.connect(db_path)\n",
    "    result = pd.read_sql_query(query, conn)\n",
    "    conn.close()\n",
    "    return result\n",
    "\n",
    "# Define database schema\n",
    "columns = [\n",
    "    (\"Product_ID\", \"INTEGER PRIMARY KEY\"),\n",
    "    (\"Product_Name\", \"TEXT\"),\n",
    "    (\"Category\", \"TEXT\"),\n",
    "    (\"Current_Stock_Level\", \"INTEGER\"),\n",
    "    (\"Reorder_Point\", \"INTEGER\"),\n",
    "    (\"Lead_Time_Days\", \"INTEGER\"),\n",
    "    (\"Storage_Location\", \"TEXT\")\n",
    "]\n",
    "\n",
    "# Create the database and insert data\n",
    "if not os.path.exists(\"data\"):\n",
    "    os.makedirs(\"data\")\n",
    "print(\"Setting up the database...\")\n",
    "create_tables(DB_PATH, columns)\n",
    "print(\"Inserting data into the database...\")\n",
    "insert_data_to_db(DB_PATH, cleaned_data)\n"
   ]
  },
  {
   "cell_type": "markdown",
   "metadata": {},
   "source": [
    "## Main Workflow and Analysis\n",
    "\n",
    "Query the database to fetch low stock items and prepare data for visualization.\n"
   ]
  },
  {
   "cell_type": "code",
   "execution_count": null,
   "metadata": {},
   "outputs": [],
   "source": [
    "# Query for low stock items\n",
    "print(\"Fetching insights...\")\n",
    "query = \"SELECT * FROM inventory WHERE Current_Stock_Level < Reorder_Point;\"\n",
    "low_stock_items = execute_query(DB_PATH, query)\n",
    "\n",
    "if low_stock_items.empty:\n",
    "    print(\"No low stock items found.\")\n",
    "    exit()\n",
    "\n",
    "print(\"Low stock items:\")\n",
    "print(low_stock_items)\n"
   ]
  },
  {
   "cell_type": "markdown",
   "metadata": {},
   "source": [
    "## Visualizations\n",
    "\n",
    "Visualize low stock items and category distribution.\n"
   ]
  },
  {
   "cell_type": "code",
   "execution_count": null,
   "metadata": {},
   "outputs": [],
   "source": [
    "# Bar chart for low stock items\n",
    "plt.figure(figsize=(12, 6))\n",
    "plt.bar(low_stock_items[\"Product_Name\"], low_stock_items[\"Current_Stock_Level\"], color=\"blue\")\n",
    "plt.title(\"Low Stock Items\")\n",
    "plt.xlabel(\"Product Name\")\n",
    "plt.ylabel(\"Current Stock Level\")\n",
    "plt.xticks(rotation=45)\n",
    "plt.tight_layout()\n",
    "plt.show()\n",
    "\n",
    "# Pie chart for category distribution\n",
    "category_counts = low_stock_items[\"Category\"].value_counts()\n",
    "plt.figure(figsize=(8, 8))\n",
    "plt.pie(\n",
    "    category_counts,\n",
    "    labels=category_counts.index,\n",
    "    autopct=\"%1.1f%%\"\n",
    ")\n",
    "plt.title(\"Category Distribution\")\n",
    "plt.show()\n"
   ]
  },
  {
   "cell_type": "markdown",
   "metadata": {},
   "source": [
    "## Conclusion\n",
    "\n",
    "This notebook demonstrates:\n",
    "- Cleaning and preparing raw inventory data\n",
    "- Storing and querying data using SQLite\n",
    "- Analyzing and visualizing inventory insights\n",
    "\n",
    "The results can be used to make informed decisions about stock management and reordering.\n"
   ]
  }
 ],
 "metadata": {
  "language_info": {
   "name": "python"
  }
 },
 "nbformat": 4,
 "nbformat_minor": 2
}
